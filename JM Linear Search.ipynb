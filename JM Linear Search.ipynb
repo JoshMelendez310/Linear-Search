{
 "cells": [
  {
   "cell_type": "code",
   "execution_count": 1,
   "metadata": {},
   "outputs": [
    {
     "name": "stdout",
     "output_type": "stream",
     "text": [
      "Enter the list of numbers: 1234\n",
      "The number to search for: 3\n",
      "3 was not found.\n"
     ]
    }
   ],
   "source": [
    "#Program Explanation\n",
    "#1. The user is prompted to enter a list of numbers.\n",
    "#2. The user is then asked to enter a key to search for.\n",
    "#3. The list and key is passed to linear_search.\n",
    "#4. If the return value is -1, the key is not found and a message is displayed, otherwise the index of the found item is displayed.\n",
    "\n",
    "def linear_search(alist, key):\n",
    "    \"\"\"Return index of key in alist. Return -1 if key not present.\"\"\"\n",
    "    for i in range(len(alist)):\n",
    "        if alist[i] == key:\n",
    "            return i\n",
    "    return -1\n",
    " \n",
    " \n",
    "alist = input('Enter the list of numbers: ')\n",
    "alist = alist.split()\n",
    "alist = [int(x) for x in alist]\n",
    "key = int(input('The number to search for: '))\n",
    " \n",
    "index = linear_search(alist, key)\n",
    "if index < 0:\n",
    "    print('{} was not found.'.format(key))\n",
    "else:\n",
    "    print('{} was found at index {}.'.format(key, index))"
   ]
  },
  {
   "cell_type": "code",
   "execution_count": null,
   "metadata": {},
   "outputs": [],
   "source": []
  }
 ],
 "metadata": {
  "kernelspec": {
   "display_name": "Python 3",
   "language": "python",
   "name": "python3"
  },
  "language_info": {
   "codemirror_mode": {
    "name": "ipython",
    "version": 3
   },
   "file_extension": ".py",
   "mimetype": "text/x-python",
   "name": "python",
   "nbconvert_exporter": "python",
   "pygments_lexer": "ipython3",
   "version": "3.7.3"
  }
 },
 "nbformat": 4,
 "nbformat_minor": 2
}
